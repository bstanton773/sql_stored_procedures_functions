{
 "cells": [
  {
   "cell_type": "code",
   "execution_count": 5,
   "metadata": {},
   "outputs": [
    {
     "name": "stdout",
     "output_type": "stream",
     "text": [
      "[<Customer|Brian Stanton>, <Customer|Tatyana Parks>, <Customer|Joel Carter>]\n"
     ]
    }
   ],
   "source": [
    "class Customer:\n",
    "    counter = 1\n",
    "    _all = []\n",
    "    \n",
    "    def __init__(self, first_name, last_name, email, loyalty_member=False):\n",
    "        self.customer_id = Customer.counter\n",
    "        self.first_name = first_name\n",
    "        self.last_name = last_name\n",
    "        self.email = email\n",
    "        self.loyalty_member = loyalty_member\n",
    "        Customer._all.append(self)\n",
    "        Customer.counter += 1\n",
    "        \n",
    "    def __str__(self):\n",
    "        return f'{self.first_name} {self.last_name}'\n",
    "    \n",
    "    def __repr__(self):\n",
    "        return f'<Customer|{self.first_name} {self.last_name}>'\n",
    "    \n",
    "    \n",
    "new_customers = [\n",
    "    ('Brian', 'Stanton', 'bstanton@codingtemple.com'),\n",
    "    ('Tatyana', 'Parks', 'tparks@codingtemple.com'),\n",
    "    ('Joel', 'Carter', 'jcarter@codingtemple.com')\n",
    "]\n",
    "\n",
    "for f, l, e in new_customers:\n",
    "    Customer(f, l, e)\n",
    "    \n",
    "print(Customer._all)"
   ]
  },
  {
   "cell_type": "code",
   "execution_count": 9,
   "metadata": {},
   "outputs": [
    {
     "name": "stdout",
     "output_type": "stream",
     "text": [
      "Brian Stanton\n"
     ]
    }
   ],
   "source": [
    "for c in Customer._all:\n",
    "    if c.loyalty_member:\n",
    "        print(c)\n",
    "    "
   ]
  },
  {
   "cell_type": "code",
   "execution_count": 8,
   "metadata": {},
   "outputs": [],
   "source": [
    "# UPDATE customer\n",
    "# SET loyalty_member = True\n",
    "# WHERE customer_id = 1\n",
    "for c in Customer._all:\n",
    "    if c.customer_id == 1:\n",
    "        c.loyalty_member = True"
   ]
  },
  {
   "cell_type": "code",
   "execution_count": 15,
   "metadata": {},
   "outputs": [],
   "source": [
    "class Movie:\n",
    "    def __init__(self, title, rating):\n",
    "        self.title = title\n",
    "        self.rating = rating\n",
    "        \n",
    "        \n",
    "        \n",
    "class Customer:\n",
    "    def __init__(self, name, age):\n",
    "        self.name = name\n",
    "        self.age = age\n",
    "        \n",
    "class Ticket:\n",
    "    def __init__(self, customer, movie):\n",
    "        self.customer = customer\n",
    "        self.movie = movie"
   ]
  },
  {
   "cell_type": "code",
   "execution_count": 17,
   "metadata": {},
   "outputs": [],
   "source": [
    "new_customer = Customer('Brian', 29)\n",
    "movie = Movie('The Godfather', 'R')\n",
    "\n",
    "\n",
    "def buy_ticket(customer, movie):\n",
    "    if movie.rating == 'PG-13' and customer.age < 13:\n",
    "        return 'Cannot purchase'\n",
    "    elif movie.rating == 'R' and customer.age < 18:\n",
    "        return 'Cannot purchase'\n",
    "    ticket = Ticket(customer, movie)\n",
    "    return ticket\n",
    "    \n",
    "my_ticket = buy_ticket(new_customer, movie)"
   ]
  },
  {
   "cell_type": "code",
   "execution_count": 20,
   "metadata": {},
   "outputs": [
    {
     "data": {
      "text/plain": [
       "'The Godfather'"
      ]
     },
     "execution_count": 20,
     "metadata": {},
     "output_type": "execute_result"
    }
   ],
   "source": [
    "my_ticket.movie.title"
   ]
  },
  {
   "cell_type": "code",
   "execution_count": null,
   "metadata": {},
   "outputs": [],
   "source": [
    "db.session.add(new_customer)"
   ]
  }
 ],
 "metadata": {
  "kernelspec": {
   "display_name": "Python 3",
   "language": "python",
   "name": "python3"
  },
  "language_info": {
   "codemirror_mode": {
    "name": "ipython",
    "version": 3
   },
   "file_extension": ".py",
   "mimetype": "text/x-python",
   "name": "python",
   "nbconvert_exporter": "python",
   "pygments_lexer": "ipython3",
   "version": "3.8.5"
  }
 },
 "nbformat": 4,
 "nbformat_minor": 4
}
